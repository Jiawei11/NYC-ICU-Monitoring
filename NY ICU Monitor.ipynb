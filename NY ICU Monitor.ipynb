{
 "cells": [
  {
   "cell_type": "code",
   "execution_count": 1,
   "id": "3a5264e1-c0a9-45ae-8928-c9c60c204b7c",
   "metadata": {},
   "outputs": [],
   "source": [
    "#Installing packages\n",
    "import pymongo\n",
    "import pandas as pd\n",
    "import json"
   ]
  },
  {
   "cell_type": "code",
   "execution_count": 2,
   "id": "3e6fdb0c",
   "metadata": {},
   "outputs": [
    {
     "name": "stdout",
     "output_type": "stream",
     "text": [
      "Requirement already satisfied: pandas in /opt/anaconda3/lib/python3.8/site-packages (1.0.1)\n",
      "Requirement already satisfied: python-dateutil>=2.6.1 in /opt/anaconda3/lib/python3.8/site-packages (from pandas) (2.8.1)\n",
      "Requirement already satisfied: pytz>=2017.2 in /opt/anaconda3/lib/python3.8/site-packages (from pandas) (2019.3)\n",
      "Requirement already satisfied: numpy>=1.13.3 in /opt/anaconda3/lib/python3.8/site-packages (from pandas) (1.18.1)\n",
      "Requirement already satisfied: six>=1.5 in /opt/anaconda3/lib/python3.8/site-packages (from python-dateutil>=2.6.1->pandas) (1.14.0)\n",
      "Requirement already satisfied: sodapy in /opt/anaconda3/lib/python3.8/site-packages (2.1.1)\n",
      "Requirement already satisfied: requests>=2.20.0 in /opt/anaconda3/lib/python3.8/site-packages (from sodapy) (2.22.0)\n",
      "Requirement already satisfied: chardet<3.1.0,>=3.0.2 in /opt/anaconda3/lib/python3.8/site-packages (from requests>=2.20.0->sodapy) (3.0.4)\n",
      "Requirement already satisfied: urllib3!=1.25.0,!=1.25.1,<1.26,>=1.21.1 in /opt/anaconda3/lib/python3.8/site-packages (from requests>=2.20.0->sodapy) (1.25.11)\n",
      "Requirement already satisfied: idna<2.9,>=2.5 in /opt/anaconda3/lib/python3.8/site-packages (from requests>=2.20.0->sodapy) (2.8)\n",
      "Requirement already satisfied: certifi>=2017.4.17 in /opt/anaconda3/lib/python3.8/site-packages (from requests>=2.20.0->sodapy) (2019.11.28)\n"
     ]
    },
    {
     "name": "stderr",
     "output_type": "stream",
     "text": [
      "WARNING:root:Requests made without an app_token will be subject to strict throttling limits.\n"
     ]
    }
   ],
   "source": [
    "!pip install pandas\n",
    "!pip install sodapy\n",
    "\n",
    "import pandas as pd\n",
    "from sodapy import Socrata\n",
    "\n",
    "# Unauthenticated client only works with public data sets. Note 'None'\n",
    "# in place of application token, and no username or password:\n",
    "client = Socrata(\"health.data.ny.gov\", None)\n",
    "\n",
    "# Example authenticated client (needed for non-public datasets):\n",
    "# client = Socrata(health.data.ny.gov,\n",
    "#                  MyAppToken,\n",
    "#                  userame=\"user@example.com\",\n",
    "#                  password=\"AFakePassword\")\n",
    "\n",
    "# First 2000 results, returned as JSON from API / converted to Python list of\n",
    "# dictionaries by sodapy.\n",
    "results = client.get(\"jw46-jpb7\",limit=200000)\n",
    "\n",
    "results_df = pd.DataFrame.from_records(results)"
   ]
  },
  {
   "cell_type": "code",
   "execution_count": 3,
   "id": "dad3aa34",
   "metadata": {},
   "outputs": [
    {
     "data": {
      "text/plain": [
       "149793"
      ]
     },
     "execution_count": 3,
     "metadata": {},
     "output_type": "execute_result"
    }
   ],
   "source": [
    "len(results_df)"
   ]
  },
  {
   "cell_type": "code",
   "execution_count": 4,
   "id": "3f20e71c",
   "metadata": {},
   "outputs": [],
   "source": [
    "df=results_df"
   ]
  },
  {
   "cell_type": "markdown",
   "id": "063a5d8c",
   "metadata": {},
   "source": [
    "## Data Cleaning"
   ]
  },
  {
   "cell_type": "code",
   "execution_count": 5,
   "id": "b35a903c",
   "metadata": {},
   "outputs": [],
   "source": [
    "to_drop = ['total_staffed_acute_care',\n",
    " 'total_staffed_acute_care_1',\n",
    " 'total_staffed_icu_beds_1',\n",
    " 'total_staffed_icu_beds_3',\n",
    " 'patients_admitted_due_to_covid',\n",
    " 'patients_admitted_not_due_to_covid',\n",
    " 'total_new_admissions_reported', 'patients_positive_after'] # Unnecessary columns also with nearly half NaNs\n",
    "\n",
    "df = df.drop(to_drop, axis = 1)\n",
    "\n",
    "df = df[results_df['total_staffed_beds_currently'].notna()] # Select only non null rows for our key column\n",
    "age_distribution = ['patients_age_lt1',\n",
    " 'patients_age_1_4',\n",
    " 'patients_age_5_19',\n",
    " 'patients_age_20_44',\n",
    " 'patients_age_45_54',\n",
    " 'patients_age_55_64',\n",
    " 'patients_age_65_74',\n",
    " 'patients_age_75_84',\n",
    " 'patients_age_greater_85','hospitalized_indicator'] # Hospitalized patients ages distribution columns and the indicator column\n",
    "\n",
    "df = df.drop(age_distribution, axis = 1) # Dropped ages distribution columns\n",
    "\n",
    "# Change date column from strings to datetime, add year month day columns\n",
    "df['as_of_date'] = pd.to_datetime(df['as_of_date'])\n",
    "df['year']= df['as_of_date'].dt.year\n",
    "df['month']= df['as_of_date'].dt.month\n",
    "df['day']= df['as_of_date'].dt.day"
   ]
  },
  {
   "cell_type": "code",
   "execution_count": 6,
   "id": "94020504",
   "metadata": {},
   "outputs": [
    {
     "data": {
      "text/plain": [
       "as_of_date                          0\n",
       "facility_pfi                        0\n",
       "facility_name                       0\n",
       "doh_region                          0\n",
       "facility_county                     0\n",
       "facility_network                    0\n",
       "ny_forward_region                   0\n",
       "patients_currently                 14\n",
       "patients_newly_admitted           142\n",
       "patients_discharged               146\n",
       "patients_currently_in_icu         146\n",
       "patients_currently_icu            147\n",
       "patients_expired                  143\n",
       "cumulative_covid_19_discharges      0\n",
       "cumulative_covid_19_fatalities      0\n",
       "total_staffed_beds                  0\n",
       "total_staffed_beds_currently        0\n",
       "total_staffed_icu_beds              4\n",
       "total_staffed_icu_beds_2           10\n",
       "year                                0\n",
       "month                               0\n",
       "day                                 0\n",
       "dtype: int64"
      ]
     },
     "execution_count": 6,
     "metadata": {},
     "output_type": "execute_result"
    }
   ],
   "source": [
    "# Check numer of NA columns as of now\n",
    "df.isna().sum()"
   ]
  },
  {
   "cell_type": "code",
   "execution_count": 7,
   "id": "ee29882c",
   "metadata": {},
   "outputs": [
    {
     "data": {
      "text/plain": [
       "as_of_date                        0\n",
       "facility_pfi                      0\n",
       "facility_name                     0\n",
       "doh_region                        0\n",
       "facility_county                   0\n",
       "facility_network                  0\n",
       "ny_forward_region                 0\n",
       "patients_currently                0\n",
       "patients_newly_admitted           0\n",
       "patients_discharged               0\n",
       "patients_currently_in_icu         0\n",
       "patients_currently_icu            0\n",
       "patients_expired                  0\n",
       "cumulative_covid_19_discharges    0\n",
       "cumulative_covid_19_fatalities    0\n",
       "total_staffed_beds                0\n",
       "total_staffed_beds_currently      0\n",
       "total_staffed_icu_beds            0\n",
       "total_staffed_icu_beds_2          0\n",
       "year                              0\n",
       "month                             0\n",
       "day                               0\n",
       "dtype: int64"
      ]
     },
     "execution_count": 7,
     "metadata": {},
     "output_type": "execute_result"
    }
   ],
   "source": [
    "cleaned_df = df.dropna() # Drop all rows that has NaNs since these don't affect the entirety of the data that much\n",
    "cleaned_df.isna().sum()"
   ]
  },
  {
   "cell_type": "code",
   "execution_count": 8,
   "id": "70bcf879",
   "metadata": {},
   "outputs": [
    {
     "data": {
      "text/html": [
       "<div>\n",
       "<style scoped>\n",
       "    .dataframe tbody tr th:only-of-type {\n",
       "        vertical-align: middle;\n",
       "    }\n",
       "\n",
       "    .dataframe tbody tr th {\n",
       "        vertical-align: top;\n",
       "    }\n",
       "\n",
       "    .dataframe thead th {\n",
       "        text-align: right;\n",
       "    }\n",
       "</style>\n",
       "<table border=\"1\" class=\"dataframe\">\n",
       "  <thead>\n",
       "    <tr style=\"text-align: right;\">\n",
       "      <th></th>\n",
       "      <th>as_of_date</th>\n",
       "      <th>facility_pfi</th>\n",
       "      <th>facility_name</th>\n",
       "      <th>doh_region</th>\n",
       "      <th>facility_county</th>\n",
       "      <th>facility_network</th>\n",
       "      <th>ny_forward_region</th>\n",
       "      <th>patients_currently</th>\n",
       "      <th>patients_newly_admitted</th>\n",
       "      <th>patients_discharged</th>\n",
       "      <th>...</th>\n",
       "      <th>patients_expired</th>\n",
       "      <th>cumulative_covid_19_discharges</th>\n",
       "      <th>cumulative_covid_19_fatalities</th>\n",
       "      <th>total_staffed_beds</th>\n",
       "      <th>total_staffed_beds_currently</th>\n",
       "      <th>total_staffed_icu_beds</th>\n",
       "      <th>total_staffed_icu_beds_2</th>\n",
       "      <th>year</th>\n",
       "      <th>month</th>\n",
       "      <th>day</th>\n",
       "    </tr>\n",
       "  </thead>\n",
       "  <tbody>\n",
       "    <tr>\n",
       "      <th>0</th>\n",
       "      <td>2020-03-26</td>\n",
       "      <td>000001</td>\n",
       "      <td>ALBANY MEDICAL CENTER HOSPITAL</td>\n",
       "      <td>CAPITAL DISTRICT REGIONAL OFFICE</td>\n",
       "      <td>ALBANY</td>\n",
       "      <td>ALBANY MEDICAL CENTER</td>\n",
       "      <td>CAPITAL REGION</td>\n",
       "      <td>12</td>\n",
       "      <td>1</td>\n",
       "      <td>1</td>\n",
       "      <td>...</td>\n",
       "      <td>0</td>\n",
       "      <td>6</td>\n",
       "      <td>0</td>\n",
       "      <td>748</td>\n",
       "      <td>236</td>\n",
       "      <td>60</td>\n",
       "      <td>36</td>\n",
       "      <td>2020</td>\n",
       "      <td>3</td>\n",
       "      <td>26</td>\n",
       "    </tr>\n",
       "    <tr>\n",
       "      <th>1</th>\n",
       "      <td>2020-03-26</td>\n",
       "      <td>000005</td>\n",
       "      <td>ST PETERS HOSPITAL</td>\n",
       "      <td>CAPITAL DISTRICT REGIONAL OFFICE</td>\n",
       "      <td>ALBANY</td>\n",
       "      <td>ST. PETERS HEALTH PARTNERS</td>\n",
       "      <td>CAPITAL REGION</td>\n",
       "      <td>10</td>\n",
       "      <td>0</td>\n",
       "      <td>0</td>\n",
       "      <td>...</td>\n",
       "      <td>0</td>\n",
       "      <td>1</td>\n",
       "      <td>0</td>\n",
       "      <td>447</td>\n",
       "      <td>145</td>\n",
       "      <td>20</td>\n",
       "      <td>7</td>\n",
       "      <td>2020</td>\n",
       "      <td>3</td>\n",
       "      <td>26</td>\n",
       "    </tr>\n",
       "    <tr>\n",
       "      <th>2</th>\n",
       "      <td>2020-03-26</td>\n",
       "      <td>000037</td>\n",
       "      <td>CUBA MEMORIAL HOSPITAL INC</td>\n",
       "      <td>WESTERN REGIONAL OFFICE</td>\n",
       "      <td>ALLEGANY</td>\n",
       "      <td>INDEPENDENT</td>\n",
       "      <td>WESTERN NEW YORK</td>\n",
       "      <td>0</td>\n",
       "      <td>0</td>\n",
       "      <td>0</td>\n",
       "      <td>...</td>\n",
       "      <td>0</td>\n",
       "      <td>1</td>\n",
       "      <td>0</td>\n",
       "      <td>20</td>\n",
       "      <td>16</td>\n",
       "      <td>0</td>\n",
       "      <td>0</td>\n",
       "      <td>2020</td>\n",
       "      <td>3</td>\n",
       "      <td>26</td>\n",
       "    </tr>\n",
       "    <tr>\n",
       "      <th>3</th>\n",
       "      <td>2020-03-26</td>\n",
       "      <td>000039</td>\n",
       "      <td>MEMORIAL HOSP OF WM F AND GERTRUDE F JONES AKA...</td>\n",
       "      <td>WESTERN REGIONAL OFFICE</td>\n",
       "      <td>ALLEGANY</td>\n",
       "      <td>UNIVERSITY OF ROCHESTER MEDICAL CENTER</td>\n",
       "      <td>WESTERN NEW YORK</td>\n",
       "      <td>0</td>\n",
       "      <td>0</td>\n",
       "      <td>0</td>\n",
       "      <td>...</td>\n",
       "      <td>0</td>\n",
       "      <td>0</td>\n",
       "      <td>0</td>\n",
       "      <td>49</td>\n",
       "      <td>29</td>\n",
       "      <td>6</td>\n",
       "      <td>2</td>\n",
       "      <td>2020</td>\n",
       "      <td>3</td>\n",
       "      <td>26</td>\n",
       "    </tr>\n",
       "    <tr>\n",
       "      <th>4</th>\n",
       "      <td>2020-03-26</td>\n",
       "      <td>000042</td>\n",
       "      <td>UNITED HEALTH SERVICES HOSPITALS INC - BINGHAM...</td>\n",
       "      <td>CENTRAL REGIONAL OFFICE</td>\n",
       "      <td>BROOME</td>\n",
       "      <td>UNITED HEALTH SERVICES HOSPITALS, INC.</td>\n",
       "      <td>SOUTHERN TIER</td>\n",
       "      <td>0</td>\n",
       "      <td>0</td>\n",
       "      <td>0</td>\n",
       "      <td>...</td>\n",
       "      <td>0</td>\n",
       "      <td>0</td>\n",
       "      <td>0</td>\n",
       "      <td>143</td>\n",
       "      <td>59</td>\n",
       "      <td>8</td>\n",
       "      <td>6</td>\n",
       "      <td>2020</td>\n",
       "      <td>3</td>\n",
       "      <td>26</td>\n",
       "    </tr>\n",
       "    <tr>\n",
       "      <th>5</th>\n",
       "      <td>2020-03-26</td>\n",
       "      <td>000043</td>\n",
       "      <td>OUR LADY OF LOURDES MEMORIAL HOSPITAL INC</td>\n",
       "      <td>CENTRAL REGIONAL OFFICE</td>\n",
       "      <td>BROOME</td>\n",
       "      <td>ASCENSION HEALTH</td>\n",
       "      <td>SOUTHERN TIER</td>\n",
       "      <td>3</td>\n",
       "      <td>0</td>\n",
       "      <td>1</td>\n",
       "      <td>...</td>\n",
       "      <td>0</td>\n",
       "      <td>1</td>\n",
       "      <td>2</td>\n",
       "      <td>132</td>\n",
       "      <td>63</td>\n",
       "      <td>10</td>\n",
       "      <td>7</td>\n",
       "      <td>2020</td>\n",
       "      <td>3</td>\n",
       "      <td>26</td>\n",
       "    </tr>\n",
       "    <tr>\n",
       "      <th>6</th>\n",
       "      <td>2020-03-26</td>\n",
       "      <td>000058</td>\n",
       "      <td>UNITED HEALTH SERVICES HOSPITAL, INC. - WILSON...</td>\n",
       "      <td>CENTRAL REGIONAL OFFICE</td>\n",
       "      <td>BROOME</td>\n",
       "      <td>UNITED HEALTH SERVICES HOSPITALS, INC.</td>\n",
       "      <td>SOUTHERN TIER</td>\n",
       "      <td>3</td>\n",
       "      <td>0</td>\n",
       "      <td>0</td>\n",
       "      <td>...</td>\n",
       "      <td>0</td>\n",
       "      <td>0</td>\n",
       "      <td>0</td>\n",
       "      <td>211</td>\n",
       "      <td>98</td>\n",
       "      <td>30</td>\n",
       "      <td>4</td>\n",
       "      <td>2020</td>\n",
       "      <td>3</td>\n",
       "      <td>26</td>\n",
       "    </tr>\n",
       "    <tr>\n",
       "      <th>7</th>\n",
       "      <td>2020-03-26</td>\n",
       "      <td>000066</td>\n",
       "      <td>OLEAN GENERAL HOSPITAL</td>\n",
       "      <td>WESTERN REGIONAL OFFICE</td>\n",
       "      <td>CATTARAUGUS</td>\n",
       "      <td>KALEIDA HEALTH</td>\n",
       "      <td>WESTERN NEW YORK</td>\n",
       "      <td>0</td>\n",
       "      <td>0</td>\n",
       "      <td>0</td>\n",
       "      <td>...</td>\n",
       "      <td>0</td>\n",
       "      <td>0</td>\n",
       "      <td>0</td>\n",
       "      <td>111</td>\n",
       "      <td>58</td>\n",
       "      <td>14</td>\n",
       "      <td>9</td>\n",
       "      <td>2020</td>\n",
       "      <td>3</td>\n",
       "      <td>26</td>\n",
       "    </tr>\n",
       "    <tr>\n",
       "      <th>8</th>\n",
       "      <td>2020-03-26</td>\n",
       "      <td>000085</td>\n",
       "      <td>AUBURN MEMORIAL HOSPITAL</td>\n",
       "      <td>CENTRAL REGIONAL OFFICE</td>\n",
       "      <td>CAYUGA</td>\n",
       "      <td>INDEPENDENT</td>\n",
       "      <td>CENTRAL NEW YORK</td>\n",
       "      <td>0</td>\n",
       "      <td>0</td>\n",
       "      <td>0</td>\n",
       "      <td>...</td>\n",
       "      <td>0</td>\n",
       "      <td>1</td>\n",
       "      <td>0</td>\n",
       "      <td>86</td>\n",
       "      <td>43</td>\n",
       "      <td>10</td>\n",
       "      <td>8</td>\n",
       "      <td>2020</td>\n",
       "      <td>3</td>\n",
       "      <td>26</td>\n",
       "    </tr>\n",
       "    <tr>\n",
       "      <th>9</th>\n",
       "      <td>2020-03-26</td>\n",
       "      <td>000098</td>\n",
       "      <td>BROOKS-TLC HOSPITAL SYSTEM, INC. (DUNKIRK)</td>\n",
       "      <td>WESTERN REGIONAL OFFICE</td>\n",
       "      <td>CHAUTAUQUA</td>\n",
       "      <td>INDEPENDENT</td>\n",
       "      <td>WESTERN NEW YORK</td>\n",
       "      <td>0</td>\n",
       "      <td>0</td>\n",
       "      <td>0</td>\n",
       "      <td>...</td>\n",
       "      <td>0</td>\n",
       "      <td>0</td>\n",
       "      <td>0</td>\n",
       "      <td>38</td>\n",
       "      <td>31</td>\n",
       "      <td>6</td>\n",
       "      <td>4</td>\n",
       "      <td>2020</td>\n",
       "      <td>3</td>\n",
       "      <td>26</td>\n",
       "    </tr>\n",
       "  </tbody>\n",
       "</table>\n",
       "<p>10 rows × 22 columns</p>\n",
       "</div>"
      ],
      "text/plain": [
       "  as_of_date facility_pfi                                      facility_name  \\\n",
       "0 2020-03-26       000001                     ALBANY MEDICAL CENTER HOSPITAL   \n",
       "1 2020-03-26       000005                                 ST PETERS HOSPITAL   \n",
       "2 2020-03-26       000037                         CUBA MEMORIAL HOSPITAL INC   \n",
       "3 2020-03-26       000039  MEMORIAL HOSP OF WM F AND GERTRUDE F JONES AKA...   \n",
       "4 2020-03-26       000042  UNITED HEALTH SERVICES HOSPITALS INC - BINGHAM...   \n",
       "5 2020-03-26       000043          OUR LADY OF LOURDES MEMORIAL HOSPITAL INC   \n",
       "6 2020-03-26       000058  UNITED HEALTH SERVICES HOSPITAL, INC. - WILSON...   \n",
       "7 2020-03-26       000066                             OLEAN GENERAL HOSPITAL   \n",
       "8 2020-03-26       000085                           AUBURN MEMORIAL HOSPITAL   \n",
       "9 2020-03-26       000098         BROOKS-TLC HOSPITAL SYSTEM, INC. (DUNKIRK)   \n",
       "\n",
       "                         doh_region facility_county  \\\n",
       "0  CAPITAL DISTRICT REGIONAL OFFICE          ALBANY   \n",
       "1  CAPITAL DISTRICT REGIONAL OFFICE          ALBANY   \n",
       "2           WESTERN REGIONAL OFFICE        ALLEGANY   \n",
       "3           WESTERN REGIONAL OFFICE        ALLEGANY   \n",
       "4           CENTRAL REGIONAL OFFICE          BROOME   \n",
       "5           CENTRAL REGIONAL OFFICE          BROOME   \n",
       "6           CENTRAL REGIONAL OFFICE          BROOME   \n",
       "7           WESTERN REGIONAL OFFICE     CATTARAUGUS   \n",
       "8           CENTRAL REGIONAL OFFICE          CAYUGA   \n",
       "9           WESTERN REGIONAL OFFICE      CHAUTAUQUA   \n",
       "\n",
       "                         facility_network ny_forward_region  \\\n",
       "0                   ALBANY MEDICAL CENTER    CAPITAL REGION   \n",
       "1              ST. PETERS HEALTH PARTNERS    CAPITAL REGION   \n",
       "2                             INDEPENDENT  WESTERN NEW YORK   \n",
       "3  UNIVERSITY OF ROCHESTER MEDICAL CENTER  WESTERN NEW YORK   \n",
       "4  UNITED HEALTH SERVICES HOSPITALS, INC.     SOUTHERN TIER   \n",
       "5                        ASCENSION HEALTH     SOUTHERN TIER   \n",
       "6  UNITED HEALTH SERVICES HOSPITALS, INC.     SOUTHERN TIER   \n",
       "7                          KALEIDA HEALTH  WESTERN NEW YORK   \n",
       "8                             INDEPENDENT  CENTRAL NEW YORK   \n",
       "9                             INDEPENDENT  WESTERN NEW YORK   \n",
       "\n",
       "  patients_currently patients_newly_admitted patients_discharged  ...  \\\n",
       "0                 12                       1                   1  ...   \n",
       "1                 10                       0                   0  ...   \n",
       "2                  0                       0                   0  ...   \n",
       "3                  0                       0                   0  ...   \n",
       "4                  0                       0                   0  ...   \n",
       "5                  3                       0                   1  ...   \n",
       "6                  3                       0                   0  ...   \n",
       "7                  0                       0                   0  ...   \n",
       "8                  0                       0                   0  ...   \n",
       "9                  0                       0                   0  ...   \n",
       "\n",
       "  patients_expired cumulative_covid_19_discharges  \\\n",
       "0                0                              6   \n",
       "1                0                              1   \n",
       "2                0                              1   \n",
       "3                0                              0   \n",
       "4                0                              0   \n",
       "5                0                              1   \n",
       "6                0                              0   \n",
       "7                0                              0   \n",
       "8                0                              1   \n",
       "9                0                              0   \n",
       "\n",
       "  cumulative_covid_19_fatalities total_staffed_beds  \\\n",
       "0                              0                748   \n",
       "1                              0                447   \n",
       "2                              0                 20   \n",
       "3                              0                 49   \n",
       "4                              0                143   \n",
       "5                              2                132   \n",
       "6                              0                211   \n",
       "7                              0                111   \n",
       "8                              0                 86   \n",
       "9                              0                 38   \n",
       "\n",
       "  total_staffed_beds_currently total_staffed_icu_beds  \\\n",
       "0                          236                     60   \n",
       "1                          145                     20   \n",
       "2                           16                      0   \n",
       "3                           29                      6   \n",
       "4                           59                      8   \n",
       "5                           63                     10   \n",
       "6                           98                     30   \n",
       "7                           58                     14   \n",
       "8                           43                     10   \n",
       "9                           31                      6   \n",
       "\n",
       "  total_staffed_icu_beds_2  year month  day  \n",
       "0                       36  2020     3   26  \n",
       "1                        7  2020     3   26  \n",
       "2                        0  2020     3   26  \n",
       "3                        2  2020     3   26  \n",
       "4                        6  2020     3   26  \n",
       "5                        7  2020     3   26  \n",
       "6                        4  2020     3   26  \n",
       "7                        9  2020     3   26  \n",
       "8                        8  2020     3   26  \n",
       "9                        4  2020     3   26  \n",
       "\n",
       "[10 rows x 22 columns]"
      ]
     },
     "execution_count": 8,
     "metadata": {},
     "output_type": "execute_result"
    }
   ],
   "source": [
    "cleaned_df.head(10)"
   ]
  },
  {
   "cell_type": "code",
   "execution_count": 9,
   "id": "988002fb",
   "metadata": {},
   "outputs": [
    {
     "data": {
      "text/plain": [
       "197"
      ]
     },
     "execution_count": 9,
     "metadata": {},
     "output_type": "execute_result"
    }
   ],
   "source": [
    "# Check how many unique facilities\n",
    "unique_pfi = len(cleaned_df['facility_pfi'].unique())\n",
    "unique_pfi"
   ]
  },
  {
   "cell_type": "code",
   "execution_count": 10,
   "id": "834dba62",
   "metadata": {},
   "outputs": [
    {
     "data": {
      "text/plain": [
       "80711"
      ]
     },
     "execution_count": 10,
     "metadata": {},
     "output_type": "execute_result"
    }
   ],
   "source": [
    "#Check how many rows remained after cleaning\n",
    "len(cleaned_df)"
   ]
  },
  {
   "cell_type": "markdown",
   "id": "1ad125fd",
   "metadata": {},
   "source": [
    "## MongoDB"
   ]
  },
  {
   "cell_type": "code",
   "execution_count": 11,
   "id": "a6333d3f",
   "metadata": {},
   "outputs": [
    {
     "data": {
      "text/plain": [
       "80711"
      ]
     },
     "execution_count": 11,
     "metadata": {},
     "output_type": "execute_result"
    }
   ],
   "source": [
    "data = cleaned_df.to_dict(orient='records')\n",
    "len(data)"
   ]
  },
  {
   "cell_type": "code",
   "execution_count": 12,
   "id": "edbb0018-929b-471e-80ad-7e44575ebc74",
   "metadata": {},
   "outputs": [],
   "source": [
    "#Connecting to mongodb\n",
    "from pymongo import MongoClient\n",
    "client = MongoClient('localhost',27017)\n",
    "db = client.apan5400final"
   ]
  },
  {
   "cell_type": "code",
   "execution_count": 13,
   "id": "7100cf12-e3ba-4638-823f-4a1a6a518d0e",
   "metadata": {},
   "outputs": [],
   "source": [
    "#Loading in into the data\n",
    "collection = db.data"
   ]
  },
  {
   "cell_type": "code",
   "execution_count": 14,
   "id": "6f5a567c",
   "metadata": {},
   "outputs": [
    {
     "data": {
      "text/plain": [
       "<pymongo.results.InsertManyResult at 0x7f93ca738cd0>"
      ]
     },
     "execution_count": 14,
     "metadata": {},
     "output_type": "execute_result"
    }
   ],
   "source": [
    "db.data.insert_many(data)"
   ]
  },
  {
   "cell_type": "code",
   "execution_count": 15,
   "id": "26c54366-1a0b-46a2-846f-ad4efa445f46",
   "metadata": {},
   "outputs": [
    {
     "data": {
      "text/plain": [
       "80711"
      ]
     },
     "execution_count": 15,
     "metadata": {},
     "output_type": "execute_result"
    }
   ],
   "source": [
    "total_docs = collection.count_documents({})\n",
    "total_docs"
   ]
  },
  {
   "cell_type": "code",
   "execution_count": 16,
   "id": "aa62b86a-23b9-47d3-8b64-85f6369dc760",
   "metadata": {},
   "outputs": [],
   "source": [
    "#MongoDB test sample\n",
    "query = {\n",
    "    \"facility_county\": {\n",
    "        \"$regex\": 'ALBANY'\n",
    "    }    \n",
    "}\n",
    "cur = collection.find(query)"
   ]
  },
  {
   "cell_type": "code",
   "execution_count": 17,
   "id": "23b94eab-f6c2-4a53-9ff3-084a73d42989",
   "metadata": {},
   "outputs": [
    {
     "data": {
      "text/plain": [
       "840"
      ]
     },
     "execution_count": 17,
     "metadata": {},
     "output_type": "execute_result"
    }
   ],
   "source": [
    "#Appending the result into the list\n",
    "a  = []\n",
    "\n",
    "for i in cur:\n",
    "    a.append(i)\n",
    "\n",
    "len(a)"
   ]
  },
  {
   "cell_type": "code",
   "execution_count": 18,
   "id": "3261da83-7549-4cd4-a0bd-df624e27acde",
   "metadata": {},
   "outputs": [],
   "source": [
    "#Visualizing the data\n",
    "dat = pd.DataFrame(a)\n",
    "dat = dat.iloc[:,1:61]\n",
    "most_recent = dat[dat['as_of_date']==dat['as_of_date'].max()]\n"
   ]
  },
  {
   "cell_type": "code",
   "execution_count": 19,
   "id": "bcdbe8e1",
   "metadata": {},
   "outputs": [
    {
     "data": {
      "text/html": [
       "<div>\n",
       "<style scoped>\n",
       "    .dataframe tbody tr th:only-of-type {\n",
       "        vertical-align: middle;\n",
       "    }\n",
       "\n",
       "    .dataframe tbody tr th {\n",
       "        vertical-align: top;\n",
       "    }\n",
       "\n",
       "    .dataframe thead th {\n",
       "        text-align: right;\n",
       "    }\n",
       "</style>\n",
       "<table border=\"1\" class=\"dataframe\">\n",
       "  <thead>\n",
       "    <tr style=\"text-align: right;\">\n",
       "      <th></th>\n",
       "      <th>as_of_date</th>\n",
       "      <th>facility_pfi</th>\n",
       "      <th>facility_name</th>\n",
       "      <th>doh_region</th>\n",
       "      <th>facility_county</th>\n",
       "      <th>facility_network</th>\n",
       "      <th>ny_forward_region</th>\n",
       "      <th>patients_currently</th>\n",
       "      <th>patients_newly_admitted</th>\n",
       "      <th>patients_discharged</th>\n",
       "      <th>...</th>\n",
       "      <th>patients_expired</th>\n",
       "      <th>cumulative_covid_19_discharges</th>\n",
       "      <th>cumulative_covid_19_fatalities</th>\n",
       "      <th>total_staffed_beds</th>\n",
       "      <th>total_staffed_beds_currently</th>\n",
       "      <th>total_staffed_icu_beds</th>\n",
       "      <th>total_staffed_icu_beds_2</th>\n",
       "      <th>year</th>\n",
       "      <th>month</th>\n",
       "      <th>day</th>\n",
       "    </tr>\n",
       "  </thead>\n",
       "  <tbody>\n",
       "    <tr>\n",
       "      <th>838</th>\n",
       "      <td>2021-05-19</td>\n",
       "      <td>000001</td>\n",
       "      <td>ALBANY MEDICAL CENTER HOSPITAL</td>\n",
       "      <td>CAPITAL DISTRICT REGIONAL OFFICE</td>\n",
       "      <td>ALBANY</td>\n",
       "      <td>ALBANY MEDICAL CENTER</td>\n",
       "      <td>CAPITAL REGION</td>\n",
       "      <td>15</td>\n",
       "      <td>2</td>\n",
       "      <td>0</td>\n",
       "      <td>...</td>\n",
       "      <td>2</td>\n",
       "      <td>1423</td>\n",
       "      <td>245</td>\n",
       "      <td>762</td>\n",
       "      <td>94</td>\n",
       "      <td>120</td>\n",
       "      <td>14</td>\n",
       "      <td>2021</td>\n",
       "      <td>5</td>\n",
       "      <td>19</td>\n",
       "    </tr>\n",
       "    <tr>\n",
       "      <th>839</th>\n",
       "      <td>2021-05-19</td>\n",
       "      <td>000005</td>\n",
       "      <td>ST PETERS HOSPITAL</td>\n",
       "      <td>CAPITAL DISTRICT REGIONAL OFFICE</td>\n",
       "      <td>ALBANY</td>\n",
       "      <td>ST. PETERS HEALTH PARTNERS</td>\n",
       "      <td>CAPITAL REGION</td>\n",
       "      <td>10</td>\n",
       "      <td>2</td>\n",
       "      <td>5</td>\n",
       "      <td>...</td>\n",
       "      <td>0</td>\n",
       "      <td>1404</td>\n",
       "      <td>229</td>\n",
       "      <td>450</td>\n",
       "      <td>79</td>\n",
       "      <td>28</td>\n",
       "      <td>5</td>\n",
       "      <td>2021</td>\n",
       "      <td>5</td>\n",
       "      <td>19</td>\n",
       "    </tr>\n",
       "  </tbody>\n",
       "</table>\n",
       "<p>2 rows × 22 columns</p>\n",
       "</div>"
      ],
      "text/plain": [
       "    as_of_date facility_pfi                   facility_name  \\\n",
       "838 2021-05-19       000001  ALBANY MEDICAL CENTER HOSPITAL   \n",
       "839 2021-05-19       000005              ST PETERS HOSPITAL   \n",
       "\n",
       "                           doh_region facility_county  \\\n",
       "838  CAPITAL DISTRICT REGIONAL OFFICE          ALBANY   \n",
       "839  CAPITAL DISTRICT REGIONAL OFFICE          ALBANY   \n",
       "\n",
       "               facility_network ny_forward_region patients_currently  \\\n",
       "838       ALBANY MEDICAL CENTER    CAPITAL REGION                 15   \n",
       "839  ST. PETERS HEALTH PARTNERS    CAPITAL REGION                 10   \n",
       "\n",
       "    patients_newly_admitted patients_discharged  ... patients_expired  \\\n",
       "838                       2                   0  ...                2   \n",
       "839                       2                   5  ...                0   \n",
       "\n",
       "    cumulative_covid_19_discharges cumulative_covid_19_fatalities  \\\n",
       "838                           1423                            245   \n",
       "839                           1404                            229   \n",
       "\n",
       "    total_staffed_beds total_staffed_beds_currently total_staffed_icu_beds  \\\n",
       "838                762                           94                    120   \n",
       "839                450                           79                     28   \n",
       "\n",
       "    total_staffed_icu_beds_2  year month  day  \n",
       "838                       14  2021     5   19  \n",
       "839                        5  2021     5   19  \n",
       "\n",
       "[2 rows x 22 columns]"
      ]
     },
     "execution_count": 19,
     "metadata": {},
     "output_type": "execute_result"
    }
   ],
   "source": [
    "most_recent"
   ]
  },
  {
   "cell_type": "markdown",
   "id": "5b5dfd72",
   "metadata": {},
   "source": [
    "## Spark"
   ]
  },
  {
   "cell_type": "code",
   "execution_count": 20,
   "id": "f973462c-76c4-43db-8b3c-80c4bcb10bf1",
   "metadata": {},
   "outputs": [
    {
     "name": "stdout",
     "output_type": "stream",
     "text": [
      "Requirement already satisfied: pyspark in /opt/anaconda3/lib/python3.8/site-packages (3.2.1)\n",
      "Requirement already satisfied: py4j==0.10.9.3 in /opt/anaconda3/lib/python3.8/site-packages (from pyspark) (0.10.9.3)\n"
     ]
    }
   ],
   "source": [
    "#ApacheSpark\n",
    "!pip install pyspark"
   ]
  },
  {
   "cell_type": "code",
   "execution_count": 21,
   "id": "53b986cc-9d00-430f-97af-f9a19f847692",
   "metadata": {},
   "outputs": [],
   "source": [
    "#Connecting pyspark\n",
    "from pyspark.sql.types import *\n",
    "from datetime import datetime\n",
    "\n",
    "from pyspark.conf import SparkConf\n",
    "from pyspark import SparkContext\n",
    "from pyspark.sql import SQLContext\n",
    "from pyspark.sql.functions import col\n",
    "from pyspark.sql.types import BooleanType\n",
    "from pyspark.sql.types import StringType\n",
    "from pyspark.sql.functions import udf"
   ]
  },
  {
   "cell_type": "code",
   "execution_count": 22,
   "id": "c326e808-01a2-456a-82b3-de305b1c536c",
   "metadata": {},
   "outputs": [
    {
     "name": "stderr",
     "output_type": "stream",
     "text": [
      "/opt/anaconda3/lib/python3.8/site-packages/pyspark/sql/context.py:77: FutureWarning: Deprecated in 3.0.0. Use SparkSession.builder.getOrCreate() instead.\n",
      "  warnings.warn(\n"
     ]
    }
   ],
   "source": [
    "sc = SparkContext() \n",
    "config = sc.getConf()\n",
    "config.set('spark.cores.max','4')\n",
    "config.set('spark.executor.memory', '8G')\n",
    "config.set('spark.driver.maxResultSize', '8g')\n",
    "config.set('spark.kryoserializer.buffer.max', '512m')\n",
    "config.set(\"spark.driver.cores\", \"4\")\n",
    "sc.stop()\n",
    "\n",
    "sc = SparkContext(conf = config) \n",
    "sqlContext = SQLContext(sc)\n",
    "    # print(\"Using Apache Spark Version\", sc.version)"
   ]
  },
  {
   "cell_type": "code",
   "execution_count": 23,
   "id": "1d0a2142-c263-4f81-aefe-1f78c3028c54",
   "metadata": {},
   "outputs": [],
   "source": [
    "#Functions to convert pandas dataframe to spark dataframe\n",
    "\n",
    "def equivalent_type(f):\n",
    "      if f == 'datetime64[ns]': return TimestampType()\n",
    "      elif f == 'int64': return LongType()\n",
    "      elif f == 'int32': return IntegerType()\n",
    "      elif f == 'float64': return FloatType()\n",
    "      else: return StringType()\n",
    "      \n",
    "def define_structure(string, format_type):\n",
    "      try: typo = equivalent_type(format_type)\n",
    "      except: typo = StringType()\n",
    "      return StructField(string, typo)\n",
    "      \n",
    "def pandas_to_spark(pandas_df):\n",
    "      columns = list(pandas_df.columns)\n",
    "      types = list(pandas_df.dtypes)\n",
    "      struct_list = []\n",
    "      for column, typo in zip(columns, types): \n",
    "        struct_list.append(define_structure(column, typo))\n",
    "      p_schema = StructType(struct_list)\n",
    "      return sqlContext.createDataFrame(pandas_df, p_schema)"
   ]
  },
  {
   "cell_type": "code",
   "execution_count": 24,
   "id": "d2477737-c47c-4fc7-b267-cfd49bde3c57",
   "metadata": {},
   "outputs": [],
   "source": [
    "spark_df = pandas_to_spark(most_recent)"
   ]
  },
  {
   "cell_type": "code",
   "execution_count": 25,
   "id": "7b97f427-5b9c-4721-bf7c-f36f62e2ccdc",
   "metadata": {},
   "outputs": [
    {
     "data": {
      "text/plain": [
       "['as_of_date',\n",
       " 'facility_pfi',\n",
       " 'facility_name',\n",
       " 'doh_region',\n",
       " 'facility_county',\n",
       " 'facility_network',\n",
       " 'ny_forward_region',\n",
       " 'patients_currently',\n",
       " 'patients_newly_admitted',\n",
       " 'patients_discharged',\n",
       " 'patients_currently_in_icu',\n",
       " 'patients_currently_icu',\n",
       " 'patients_expired',\n",
       " 'cumulative_covid_19_discharges',\n",
       " 'cumulative_covid_19_fatalities',\n",
       " 'total_staffed_beds',\n",
       " 'total_staffed_beds_currently',\n",
       " 'total_staffed_icu_beds',\n",
       " 'total_staffed_icu_beds_2',\n",
       " 'year',\n",
       " 'month',\n",
       " 'day']"
      ]
     },
     "execution_count": 25,
     "metadata": {},
     "output_type": "execute_result"
    }
   ],
   "source": [
    "spark_df.columns"
   ]
  },
  {
   "cell_type": "code",
   "execution_count": 26,
   "id": "5c7b4e65-c3c0-4579-8c4c-e744abf3063b",
   "metadata": {},
   "outputs": [
    {
     "name": "stdout",
     "output_type": "stream",
     "text": [
      "+-------------------+------------+--------------------+--------------------+---------------+--------------------+-----------------+------------------+-----------------------+-------------------+-------------------------+----------------------+----------------+------------------------------+------------------------------+------------------+----------------------------+----------------------+------------------------+----+-----+---+\n",
      "|         as_of_date|facility_pfi|       facility_name|          doh_region|facility_county|    facility_network|ny_forward_region|patients_currently|patients_newly_admitted|patients_discharged|patients_currently_in_icu|patients_currently_icu|patients_expired|cumulative_covid_19_discharges|cumulative_covid_19_fatalities|total_staffed_beds|total_staffed_beds_currently|total_staffed_icu_beds|total_staffed_icu_beds_2|year|month|day|\n",
      "+-------------------+------------+--------------------+--------------------+---------------+--------------------+-----------------+------------------+-----------------------+-------------------+-------------------------+----------------------+----------------+------------------------------+------------------------------+------------------+----------------------------+----------------------+------------------------+----+-----+---+\n",
      "|2021-05-19 00:00:00|      000001|ALBANY MEDICAL CE...|CAPITAL DISTRICT ...|         ALBANY|ALBANY MEDICAL CE...|   CAPITAL REGION|                15|                      2|                  0|                        5|                     1|               2|                          1423|                           245|               762|                          94|                   120|                      14|2021|    5| 19|\n",
      "|2021-05-19 00:00:00|      000005|  ST PETERS HOSPITAL|CAPITAL DISTRICT ...|         ALBANY|ST. PETERS HEALTH...|   CAPITAL REGION|                10|                      2|                  5|                        2|                     2|               0|                          1404|                           229|               450|                          79|                    28|                       5|2021|    5| 19|\n",
      "+-------------------+------------+--------------------+--------------------+---------------+--------------------+-----------------+------------------+-----------------------+-------------------+-------------------------+----------------------+----------------+------------------------------+------------------------------+------------------+----------------------------+----------------------+------------------------+----+-----+---+\n",
      "\n"
     ]
    }
   ],
   "source": [
    "#test\n",
    "spark_df.show()"
   ]
  },
  {
   "cell_type": "code",
   "execution_count": 27,
   "id": "02f063d7-6755-4396-8da9-40238ffab118",
   "metadata": {},
   "outputs": [],
   "source": [
    "#test\n",
    "cb_rdd = spark_df.select('*').rdd.map(lambda row: [str(row[i]) for i in ['facility_county','as_of_date','doh_region','facility_network','ny_forward_region','total_staffed_beds_currently','total_staffed_icu_beds']])\n",
    "cb_sdf2 = sqlContext.createDataFrame(cb_rdd,['facility_county','as_of_date','doh_region','facility_network','ny_forward_region','total_staffed_beds_currently','total_staffed_icu_beds'])"
   ]
  },
  {
   "cell_type": "code",
   "execution_count": 28,
   "id": "8075715b",
   "metadata": {},
   "outputs": [
    {
     "name": "stdout",
     "output_type": "stream",
     "text": [
      "+---------------+-------------------+--------------------+--------------------+-----------------+----------------------------+----------------------+\n",
      "|facility_county|         as_of_date|          doh_region|    facility_network|ny_forward_region|total_staffed_beds_currently|total_staffed_icu_beds|\n",
      "+---------------+-------------------+--------------------+--------------------+-----------------+----------------------------+----------------------+\n",
      "|         ALBANY|2021-05-19 00:00:00|CAPITAL DISTRICT ...|ALBANY MEDICAL CE...|   CAPITAL REGION|                          94|                   120|\n",
      "|         ALBANY|2021-05-19 00:00:00|CAPITAL DISTRICT ...|ST. PETERS HEALTH...|   CAPITAL REGION|                          79|                    28|\n",
      "+---------------+-------------------+--------------------+--------------------+-----------------+----------------------------+----------------------+\n",
      "\n"
     ]
    }
   ],
   "source": [
    "cb_sdf2.show()"
   ]
  },
  {
   "cell_type": "markdown",
   "id": "3e242128",
   "metadata": {},
   "source": [
    "## Flask"
   ]
  },
  {
   "cell_type": "code",
   "execution_count": 100,
   "id": "7a8990fd-913d-4327-8cc0-5d93e795c506",
   "metadata": {},
   "outputs": [
    {
     "name": "stdout",
     "output_type": "stream",
     "text": [
      "Duration: 0:00:00.005179\n"
     ]
    }
   ],
   "source": [
    "#!pip install flask\n",
    "start_time = datetime.now()\n",
    "from flask import Flask, request, render_template\n",
    "app = Flask(\"ETL-Pipeline\")\n",
    "\n",
    "@app.route('/')\n",
    "def my_form():\n",
    "    return render_template('index.html')\n",
    "\n",
    "@app.route('/', methods=['POST'])\n",
    "def my_form_post():\n",
    "    val = request.form['userinput']\n",
    "    query = {\n",
    "    \"facility_county\": {\n",
    "        \"$regex\": val} }\n",
    "    cur = collection.find(query)\n",
    "    a  = []\n",
    "    for i in cur:\n",
    "        a.append(i)\n",
    "    dat = pd.DataFrame(a)\n",
    "    dat = dat.iloc[:,1:61]\n",
    "    # Most recent records\n",
    "    most_recent = dat[dat['as_of_date']==dat['as_of_date'].max()]\n",
    "\n",
    "    spark_df = pandas_to_spark(most_recent)\n",
    "    cb_rdd = spark_df.select('*').rdd.map(lambda row: [str(row[i]) for i in ['facility_county','as_of_date','doh_region','facility_network','ny_forward_region','total_staffed_beds_currently','total_staffed_icu_beds']])\n",
    "    cb_sdf2 = sqlContext.createDataFrame(cb_rdd,['facility_county','as_of_date','doh_region','facility_network','ny_forward_region','total_staffed_beds_currently','total_staffed_icu_beds'])\n",
    "    final_df = cb_sdf2.toPandas()\n",
    "\n",
    "   \n",
    "    return render_template('table.html',  tables=[final_df.to_html(classes='data')], titles='') #displaying results on the webpage\n",
    "end_time = datetime.now()\n",
    "print('Duration: {}'.format(end_time - start_time))"
   ]
  },
  {
   "cell_type": "code",
   "execution_count": 102,
   "id": "b0816f9b-d921-43af-ab52-59e76158d9fa",
   "metadata": {},
   "outputs": [
    {
     "name": "stdout",
     "output_type": "stream",
     "text": [
      " * Serving Flask app \"ETL-Pipeline\" (lazy loading)\n",
      " * Environment: production\n",
      "   WARNING: This is a development server. Do not use it in a production deployment.\n",
      "   Use a production WSGI server instead.\n",
      " * Debug mode: off\n"
     ]
    },
    {
     "name": "stderr",
     "output_type": "stream",
     "text": [
      "INFO:werkzeug: * Running on http://localhost:5001/ (Press CTRL+C to quit)\n",
      "INFO:werkzeug:127.0.0.1 - - [28/Apr/2022 01:02:42] \"\u001b[37mGET / HTTP/1.1\u001b[0m\" 200 -\n",
      "INFO:werkzeug:127.0.0.1 - - [28/Apr/2022 01:02:45] \"\u001b[37mPOST / HTTP/1.1\u001b[0m\" 200 -\n"
     ]
    }
   ],
   "source": [
    "app.run(host='localhost', port=5001)"
   ]
  },
  {
   "cell_type": "code",
   "execution_count": null,
   "id": "bfd753a9-9373-4fa0-bf87-c3b1bf7a3773",
   "metadata": {},
   "outputs": [],
   "source": []
  }
 ],
 "metadata": {
  "kernelspec": {
   "display_name": "Python 3 (ipykernel)",
   "language": "python",
   "name": "python3"
  },
  "language_info": {
   "codemirror_mode": {
    "name": "ipython",
    "version": 3
   },
   "file_extension": ".py",
   "mimetype": "text/x-python",
   "name": "python",
   "nbconvert_exporter": "python",
   "pygments_lexer": "ipython3",
   "version": "3.8.1"
  }
 },
 "nbformat": 4,
 "nbformat_minor": 5
}
